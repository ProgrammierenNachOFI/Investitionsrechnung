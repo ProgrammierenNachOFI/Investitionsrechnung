{
 "cells": [
  {
   "cell_type": "markdown",
   "metadata": {},
   "source": [
    "# Berechnung des internen Zinssatzes mit Python"
   ]
  },
  {
   "cell_type": "markdown",
   "metadata": {},
   "source": [
    "## Ausgangslage"
   ]
  },
  {
   "cell_type": "markdown",
   "metadata": {},
   "source": [
    "Im folgenden Notebook geht es darum, den internen Zinssatz (Internal\n",
    "Rate of Return, IRR) einer Investition mit den Grundfunktionen von\n",
    "Python zu berechnen. Allenfalls werden dafür eigene Funktionen geschrieben."
   ]
  },
  {
   "cell_type": "markdown",
   "metadata": {},
   "source": [
    "Die IRR entsrpicht jenem Zinssatz, bei dem der Nettobarwert (Net Present\n",
    "Value, NPV) einer Investition Null ist. Der NPV berechnet sich nach\n",
    "folgender Formel:\n",
    "$$NPV = \\sum_{t=0}^{n} \\frac{cf_t}{(1 + i)^t} \\; - I$$\n",
    "Wobei $n$ die Nutzungsdauer, $t$ das aktuelle Jahr $cf$ der Cash Flow,\n",
    "$i$ der kalkulatorische Zinssatz als Dezimalzahl und $I$ die\n",
    "Anfangsinvestition ist.\n",
    "\n",
    "Für eine **Berechnung** der IRR muss diese Formel demgemäss nach $i$\n",
    "aufgelöst werden."
   ]
  },
  {
   "cell_type": "markdown",
   "metadata": {},
   "source": [
    "Um sich besser vorstellen zu können, was das bedeutet, soll auf ein\n",
    "Zahlenbeispiel<a name=\"cite_ref-1\"></a>[<sup>[1]</sup>](#cite_note-1)\n",
    "abgestellt werden.\n"
   ]
  },
  {
   "cell_type": "markdown",
   "metadata": {},
   "source": [
    "| Stichwort | Variante A | Variante B |\n",
    "| :--- | ---: | ---: |\n",
    "| Anschaffungspreis | 8'000 | 10'000 |\n",
    "| Nutzungsdauer | 4 Jahre | 4 Jahre |\n",
    "| CF1 | 3'500 | 4'000 |\n",
    "| CF2 | 3'800 | 4'100 |\n",
    "| CF3 | 3'900 | 4'100 |\n",
    "| CF4 | 4'000 | 4'200 |\n",
    "| Kalkulatorischer Zinssatz | 12% | 12% |"
   ]
  },
  {
   "cell_type": "markdown",
   "metadata": {},
   "source": [
    "Für Variante A lautet damit die Gleichung für die Berechnung der IRR folgndermassen:"
   ]
  },
  {
   "cell_type": "markdown",
   "metadata": {},
   "source": [
    "$$0 = \\frac{3500}{(1 + i)^1} + \\frac{3800}{(1 + i)^2} + \\frac{3900}{(1 +\n",
    "i)^3} + \\frac{4000}{(1 + i)^4} $$"
   ]
  },
  {
   "cell_type": "markdown",
   "metadata": {},
   "source": [
    "Diese Gleichung ist nach $i$ aufzulösen."
   ]
  },
  {
   "cell_type": "markdown",
   "metadata": {},
   "source": [
    "Für die Lösung dieser Aufgabenstellung in Python muss die Gleichung\n",
    "nicht gelöst werden, sondern es kann ein Resultat durch Ausprobieren\n",
    "gefunden werden."
   ]
  },
  {
   "cell_type": "markdown",
   "metadata": {},
   "source": [
    "Dazu darf auf die untenstehende Funktion\n",
    "`get_npv()` zur Berechnung des Nettobarwerts (Net Present Value, NPV)\n",
    "abgestellt werden."
   ]
  },
  {
   "cell_type": "code",
   "execution_count": 3,
   "metadata": {},
   "outputs": [],
   "source": [
    "def get_npv(investment : int, \n",
    "            cash_flows : list[int], \n",
    "            interest_rate : float) -> float:\n",
    "    \n",
    "    discounted_cash_flows = [cf * (1+interest_rate)**-(i + 1) \n",
    "                             for i, cf in enumerate(cash_flows)]\n",
    "    \n",
    "    npv = sum(discounted_cash_flows) - investment\n",
    "    \n",
    "    return npv"
   ]
  },
  {
   "cell_type": "markdown",
   "metadata": {},
   "source": [
    "## Aufgabenstellung"
   ]
  },
  {
   "cell_type": "markdown",
   "metadata": {},
   "source": [
    "### Planung der Vorgehensweise"
   ]
  },
  {
   "cell_type": "markdown",
   "metadata": {},
   "source": [
    "Überlegen Sie sich eine geeignete Vorgehensweise und halten Sie\n",
    "diese in der folgenden Zelle fest."
   ]
  },
  {
   "cell_type": "markdown",
   "metadata": {},
   "source": [
    "*Beschreibung der Vorgehensweise (Algorithmus) als einfache Aufzählung*\n",
    "\n",
    "1. *erster Schritt*\n",
    "2. *zweiter Schritt*\n",
    "3. ..."
   ]
  },
  {
   "cell_type": "markdown",
   "metadata": {},
   "source": [
    "#### Visualisierung des Algorithmus"
   ]
  },
  {
   "cell_type": "markdown",
   "metadata": {},
   "source": [
    "Stellen Sie Ihren Algorithmus als Flussdiagramm oder als\n",
    "Nassi-Shneiderman-Diagramm dar."
   ]
  },
  {
   "cell_type": "markdown",
   "metadata": {},
   "source": [
    "*hier die Zeichnung einfügen*"
   ]
  },
  {
   "cell_type": "markdown",
   "metadata": {},
   "source": [
    "#### Implementierung des Algorithmus"
   ]
  },
  {
   "cell_type": "markdown",
   "metadata": {},
   "source": [
    "Um diesen Algorithmus zu implementieren, sind die Zahlen der Variante A\n",
    "zu verwenden."
   ]
  },
  {
   "cell_type": "code",
   "execution_count": 1,
   "metadata": {},
   "outputs": [],
   "source": [
    "# TODO: Zuweisung der Daten zu sinnvollen Variabeln"
   ]
  },
  {
   "cell_type": "code",
   "execution_count": 9,
   "metadata": {},
   "outputs": [],
   "source": [
    "def get_irr():\n",
    "    # TODO: implementieren Sie den Algorithmus"
   ]
  },
  {
   "cell_type": "markdown",
   "metadata": {},
   "source": [
    "## Test der Funktion"
   ]
  },
  {
   "cell_type": "markdown",
   "metadata": {},
   "source": [
    "Für den Test werden die beiden Varianten einander gegenübergestellt."
   ]
  },
  {
   "cell_type": "code",
   "execution_count": 11,
   "metadata": {},
   "outputs": [],
   "source": [
    "# TODO: Berechnen Sie den IRR der beiden Varianten"
   ]
  },
  {
   "cell_type": "markdown",
   "metadata": {},
   "source": [
    "[^1]: Das Zahlenbeispiel stammt aus dem Lehrbuch von Lehrbuch Capaul Roman und Steingruber Daniel,\n",
    "Betriebswirtschaft verstehen: Das St.Galler Management-Modell, 4.\n",
    "Auflage, Berlin 2020."
   ]
  },
  {
   "cell_type": "markdown",
   "metadata": {},
   "source": [
    "<a name=\"cite_note-1\"></a>1. [^](#cite_ref-1) Das Zahlenbeispiel stammt\n",
    "aus dem Lehrbuch Capaul Roman und Steingruber Daniel,\n",
    "Betriebswirtschaft verstehen: Das St.Galler Management-Modell, 4.\n",
    "Auflage, Berlin 2020."
   ]
  }
 ],
 "metadata": {
  "kernelspec": {
   "display_name": "Python 3 (ipykernel)",
   "language": "python",
   "name": "python3"
  },
  "language_info": {
   "codemirror_mode": {
    "name": "ipython",
    "version": 3
   },
   "file_extension": ".py",
   "mimetype": "text/x-python",
   "name": "python",
   "nbconvert_exporter": "python",
   "pygments_lexer": "ipython3",
   "version": "3.11.6"
  }
 },
 "nbformat": 4,
 "nbformat_minor": 4
}
