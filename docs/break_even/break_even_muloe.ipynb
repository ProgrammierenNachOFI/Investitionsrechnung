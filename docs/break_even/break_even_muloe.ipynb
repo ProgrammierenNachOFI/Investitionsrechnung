{
 "cells": [
  {
   "cell_type": "markdown",
   "metadata": {},
   "source": [
    "# Break Even (Nutzschwelle)"
   ]
  },
  {
   "cell_type": "markdown",
   "metadata": {},
   "source": [
    "Die Berechnung der Nutzschwelle (Break Even Point) soll am Beispiel von\n",
    "Mobilitätskosten dargestellt werden. Es werden dazu auf Preise im\n",
    "Februar 2024 abgestellt.  \n",
    "Verglichen werden die Kosten eines Kleinwagens mit jenen des\n",
    "öffentlichen Verkehrs mit einem Halbtax- bzw. Generalabbonement."
   ]
  },
  {
   "cell_type": "markdown",
   "metadata": {},
   "source": [
    "Um die Resultate grafisch darstellen zu können, wird auf die Python\n",
    "Library `matplotlib` abgestellt."
   ]
  },
  {
   "cell_type": "code",
   "execution_count": 2,
   "metadata": {},
   "outputs": [],
   "source": [
    "import matplotlib.pyplot as plt"
   ]
  },
  {
   "cell_type": "markdown",
   "metadata": {},
   "source": [
    "Es wäre hilfreich, wenn die entsprechenden Daten in einer Klasse\n",
    "abgelegt werden könnten."
   ]
  },
  {
   "cell_type": "markdown",
   "metadata": {},
   "source": [
    "![Klassendiagramm](images/Klassendiagramm.svg)"
   ]
  },
  {
   "cell_type": "code",
   "execution_count": null,
   "metadata": {},
   "outputs": [],
   "source": [
    "class BreakEvenObjekt:\n",
    "    def __init__(self, fixe_kosten, variable_kosten):\n",
    "        self.fixe_kosten = fixe_kosten\n",
    "        self.variable_kosten = variable_kosten\n",
    "        self.total_fixe_kosten = sum(fixe_kosten.values())\n",
    "        self.total_variable_kosten = sum(variable_kosten.values())\n",
    "\n",
    "    def breakEvenPoint(self):\n",
    "        return self.fixeKosten / (self.preis - self.variableKosten)"
   ]
  }
 ],
 "metadata": {
  "kernelspec": {
   "display_name": "Python 3",
   "language": "python",
   "name": "python3"
  },
  "language_info": {
   "codemirror_mode": {
    "name": "ipython",
    "version": 3
   },
   "file_extension": ".py",
   "mimetype": "text/x-python",
   "name": "python",
   "nbconvert_exporter": "python",
   "pygments_lexer": "ipython3",
   "version": "3.12.1"
  }
 },
 "nbformat": 4,
 "nbformat_minor": 2
}
