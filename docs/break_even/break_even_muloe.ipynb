{
 "cells": [
  {
   "cell_type": "markdown",
   "metadata": {
    "id": "-7VreAS4Iwx4"
   },
   "source": [
    "<a target=\"_blank\" href=\"https://colab.research.google.com/github/ProgrammierenNachOFI/Investitionsrechnung/blob/breakeven/docs/break_even/break_even_muloe.ipynb\">\n",
    "  <img src=\"https://colab.research.google.com/assets/colab-badge.svg\" alt=\"Open In Colab\"/>\n",
    "</a>"
   ]
  },
  {
   "cell_type": "markdown",
   "metadata": {
    "id": "bG99IfdSIwyD"
   },
   "source": [
    "# Break Even Point (Nutzschwelle)"
   ]
  },
  {
   "cell_type": "markdown",
   "metadata": {
    "id": "1bXI_w7XIwyE"
   },
   "source": [
    "Die Berechnung der Nutzschwelle (Break Even Point) soll am Beispiel von\n",
    "Mobilitätskosten dargestellt werden. Es werden dazu auf Preise im\n",
    "Februar 2024 abgestellt.  \n",
    "Verglichen werden die Kosten eines Kleinwagens mit jenen des\n",
    "öffentlichen Verkehrs mit einem Halbtax- bzw. Generalabonnement."
   ]
  },
  {
   "cell_type": "markdown",
   "metadata": {
    "id": "YSPLAFcrIwyG"
   },
   "source": [
    "## Ausgangslage"
   ]
  },
  {
   "cell_type": "markdown",
   "metadata": {
    "id": "qStEGyjtIwyH"
   },
   "source": [
    "### Kosten Kleinwagen"
   ]
  },
  {
   "cell_type": "markdown",
   "metadata": {
    "id": "C4yS9VBpIwyI"
   },
   "source": [
    "Basierend auf den\n",
    "[Angaben des TCS vom Februar 2024](https://www.tcs.ch/de/testberichte-ratgeber/ratgeber/kontrollen-unterhalt/kilometerkosten.php)\n",
    "fallen für einen Kleinwagen mit einem Neupreis von CHF 41'000 bei einer Fahrleistung von 15'000km die folgenden Kosten an:"
   ]
  },
  {
   "cell_type": "markdown",
   "metadata": {},
   "source": [
    "<style type=\"text/css\">\n",
    ".tg  {border-collapse:collapse;border-spacing:0;}\n",
    ".tg td{border-color:black;border-style:solid;border-width:1px;font-family:Arial, sans-serif;font-size:14px;\n",
    "  overflow:hidden;padding:10px 5px;word-break:normal;}\n",
    ".tg th{border-color:black;border-style:solid;border-width:1px;font-family:Arial, sans-serif;font-size:14px;\n",
    "  font-weight:normal;overflow:hidden;padding:10px 5px;word-break:normal;}\n",
    ".tg .tg-3dyu{background-color:#dae8fc;border-color:#ffffff;text-align:left;vertical-align:top}\n",
    ".tg .tg-km2t{border-color:#ffffff;font-weight:bold;text-align:left;vertical-align:top}\n",
    ".tg .tg-t0e7{background-color:#dae8fc;border-color:#ffffff;text-align:right;vertical-align:top}\n",
    ".tg .tg-q7y3{background-color:#329a9d;border-color:#ffffff;text-align:left;vertical-align:top}\n",
    ".tg .tg-xqdw{background-color:#fe996b;border-color:#ffffff;text-align:left;vertical-align:top}\n",
    ".tg .tg-0x8w{background-color:#67fd9a;border-color:#ffffff;text-align:left;vertical-align:top}\n",
    ".tg .tg-yqfz{background-color:#fe996b;border-color:#ffffff;text-align:right;vertical-align:top}\n",
    ".tg .tg-3blo{background-color:#f56b00;border-color:#ffffff;text-align:left;vertical-align:top}\n",
    ".tg .tg-yihb{background-color:#f56b00;border-color:#ffffff;text-align:right;vertical-align:top}\n",
    ".tg .tg-bvq3{background-color:#67fd9a;border-color:#ffffff;text-align:right;vertical-align:top}\n",
    ".tg .tg-qc6x{background-color:#32cb00;border-color:#ffffff;text-align:left;vertical-align:top}\n",
    ".tg .tg-bsvm{background-color:#32cb00;border-color:#ffffff;text-align:right;vertical-align:top}\n",
    ".tg .tg-7i3q{background-color:#329a9d;border-color:#ffffff;text-align:right;vertical-align:top}\n",
    "</style>\n",
    "<table class=\"tg\">\n",
    "<thead>\n",
    "  <tr>\n",
    "    <th class=\"tg-km2t\">Musterauto</th>\n",
    "    <th class=\"tg-km2t\" colspan=\"2\">Kostensituation</th>\n",
    "  </tr>\n",
    "</thead>\n",
    "<tbody>\n",
    "  <tr>\n",
    "    <td class=\"tg-3dyu\">Jährliche Laufleistung</td>\n",
    "    <td class=\"tg-3dyu\">km</td>\n",
    "    <td class=\"tg-t0e7\">15'000</td>\n",
    "  </tr>\n",
    "  <tr>\n",
    "    <td class=\"tg-3dyu\">Nutzungsdauer</td>\n",
    "    <td class=\"tg-3dyu\">Jahre</td>\n",
    "    <td class=\"tg-t0e7\">10</td>\n",
    "  </tr>\n",
    "  <tr>\n",
    "    <td class=\"tg-xqdw\">Amortisation</td>\n",
    "    <td class=\"tg-xqdw\">CHF</td>\n",
    "    <td class=\"tg-yqfz\">2'897</td>\n",
    "  </tr>\n",
    "  <tr>\n",
    "    <td class=\"tg-xqdw\">Parkkosten</td>\n",
    "    <td class=\"tg-xqdw\">CHF</td>\n",
    "    <td class=\"tg-yqfz\">1'716</td>\n",
    "  </tr>\n",
    "  <tr>\n",
    "    <td class=\"tg-xqdw\">Versicherungen</td>\n",
    "    <td class=\"tg-xqdw\">CHF</td>\n",
    "    <td class=\"tg-yqfz\">966</td>\n",
    "  </tr>\n",
    "  <tr>\n",
    "    <td class=\"tg-xqdw\">Diverses</td>\n",
    "    <td class=\"tg-xqdw\">CHF</td>\n",
    "    <td class=\"tg-yqfz\">966</td>\n",
    "  </tr>\n",
    "  <tr>\n",
    "    <td class=\"tg-3blo\">Total Fixkosten</td>\n",
    "    <td class=\"tg-3blo\">CHF</td>\n",
    "    <td class=\"tg-yihb\">6'545</td>\n",
    "  </tr>\n",
    "  <tr>\n",
    "    <td class=\"tg-0x8w\">Nutzungsbedingte<br>Wertverminderung</td>\n",
    "    <td class=\"tg-0x8w\">CHF</td>\n",
    "    <td class=\"tg-bvq3\">1'180</td>\n",
    "  </tr>\n",
    "  <tr>\n",
    "    <td class=\"tg-0x8w\">Treibstoffkosten</td>\n",
    "    <td class=\"tg-0x8w\">CHF</td>\n",
    "    <td class=\"tg-bvq3\">1'502</td>\n",
    "  </tr>\n",
    "  <tr>\n",
    "    <td class=\"tg-0x8w\">Reifenkosten</td>\n",
    "    <td class=\"tg-0x8w\">CHF</td>\n",
    "    <td class=\"tg-bvq3\">429</td>\n",
    "  </tr>\n",
    "  <tr>\n",
    "    <td class=\"tg-0x8w\">Reparaturkosten</td>\n",
    "    <td class=\"tg-0x8w\">CHF</td>\n",
    "    <td class=\"tg-bvq3\">1'073</td>\n",
    "  </tr>\n",
    "  <tr>\n",
    "    <td class=\"tg-qc6x\">Total variable Kosten</td>\n",
    "    <td class=\"tg-qc6x\">CHF</td>\n",
    "    <td class=\"tg-bsvm\">4'184</td>\n",
    "  </tr>\n",
    "  <tr>\n",
    "    <td class=\"tg-q7y3\">Kosten pro km</td>\n",
    "    <td class=\"tg-q7y3\">CHF</td>\n",
    "    <td class=\"tg-7i3q\">0.28</td>\n",
    "  </tr>\n",
    "</tbody>\n",
    "</table>"
   ]
  },
  {
   "cell_type": "markdown",
   "metadata": {
    "id": "sVLSZXX_IwyL"
   },
   "source": [
    "### Kosten Halbtax"
   ]
  },
  {
   "cell_type": "markdown",
   "metadata": {
    "id": "_VsgCtX0IwyM"
   },
   "source": [
    "Ein Halbtax der SBB\n",
    "[kostet für einen Neukunden im Februar 2024](https://www.sbb.ch/de/billette-angebote/abos/halbtax.html)\n",
    "CHF 190.\n",
    "\n",
    "Unklar sind die Kilometerpreise der SBB. Eine Überschlagsrechnung,\n",
    "basierend auf den Billettpreisen und den Strecken gemäss Karte, führt zu\n",
    "einem Kilometerpreis von CHF 0.45 für ein Billett erster Klasse."
   ]
  },
  {
   "cell_type": "markdown",
   "metadata": {
    "id": "250MasGCIwyM"
   },
   "source": [
    "### Kosten Generalabonnement"
   ]
  },
  {
   "cell_type": "markdown",
   "metadata": {
    "id": "BTnD57-JIwyN"
   },
   "source": [
    "Ein Generalabonnement erster Klasse\n",
    "[kostet im Februar 2024](https://www.sbb.ch/de/billette-angebote/abos/ga/ga-preise.html)\n",
    "CHF 6'520."
   ]
  },
  {
   "cell_type": "markdown",
   "metadata": {
    "id": "maeCJxeXIwyN"
   },
   "source": [
    "## Mathematische Überlegungen zur Berechnung des Break Even Points"
   ]
  },
  {
   "cell_type": "markdown",
   "metadata": {
    "id": "2eZo8GTeIwyO"
   },
   "source": [
    "Der Break Even Point, bzw. die Nutzschwelle, fragt nach der Anzahl von\n",
    "Einheiten (im Beispiel km), ab welcher eine Variante finanziell einer Vergleichsvariante vorzuziehen ist.\n",
    "\n",
    "Dazu werden die Kostentwicklungen in Abhängigkeit der fraglichen Einheit der beiden Varianten als Funktionen\n",
    "dargestellt. Der Einfachheit halber wird hier auf eine lineare Funktion vom Typ $f(x)=mx+b$ abgestellt. \n",
    "Diese Funktionen werden dann einander gleichgesetzt und\n",
    "nach der gesuchten Einheit aufgelöst.\n",
    "\n",
    "Für das Halbtaxabonnement sieht die Kostenfunktion $k(km)$ gestützt auf die oben dargestellten Daten folgendermassen aus:\n",
    "\n",
    "$$k_{halbtax}(km) = 0.45 \\cdot km + 190$$\n",
    "\n",
    "Für das Auto ergibt sich aus der der obigen Zusammenstellung die\n",
    "folgende Kostenfunktion:\n",
    "\n",
    "$$k_{auto}(km) = 0.28 \\cdot km + 6'545$$"
   ]
  },
  {
   "cell_type": "markdown",
   "metadata": {
    "id": "1oXfc4hFIwyO"
   },
   "source": [
    "Wenn die beiden Funktionen einander gleichgesetzt werden, sieht das\n",
    "folgendermassen aus:"
   ]
  },
  {
   "cell_type": "markdown",
   "metadata": {
    "id": "5Hlj1lwcIwyP"
   },
   "source": [
    "$$\n",
    "\\begin{aligned}\n",
    "0.45 \\cdot km + 190 &=& 0.28 \\cdot km + 6'545\\\\\n",
    "0.17 \\cdot km &=& 6'355\\\\\n",
    "km &=& 37'382\\\\\n",
    "\\end{aligned}\n",
    "$$"
   ]
  },
  {
   "cell_type": "markdown",
   "metadata": {},
   "source": [
    "In der Folge geht es darum, die Gleichung mit Python zu lösen und die Lösung grafisch darzustellen."
   ]
  },
  {
   "cell_type": "markdown",
   "metadata": {
    "id": "cXhYLr75IwyP"
   },
   "source": [
    "## Erforderliche Python Libraries"
   ]
  },
  {
   "cell_type": "markdown",
   "metadata": {
    "id": "Z9EHhA-NIwyQ"
   },
   "source": [
    "Um die Resultate grafisch darstellen zu können, wird auf die Python\n",
    "Library\n",
    "[`matplotlib`](https://matplotlib.org/)\n",
    "abgestellt. Für das automatisierte Lösen von Gleichungen wird die Python Library\n",
    "[`sympy`](https://www.sympy.org/en/index.html)\n",
    "verwendet."
   ]
  },
  {
   "cell_type": "code",
   "execution_count": null,
   "metadata": {
    "executionInfo": {
     "elapsed": 1710,
     "status": "ok",
     "timestamp": 1707401592191,
     "user": {
      "displayName": "Jacques Mock Schindler",
      "userId": "15993227930449788589"
     },
     "user_tz": -60
    },
    "id": "MW31ckypIwyQ"
   },
   "outputs": [],
   "source": [
    "import matplotlib.pyplot as plt\n",
    "import sympy as sp\n"
   ]
  },
  {
   "cell_type": "markdown",
   "metadata": {},
   "source": [
    "In einer ersten Phase werden die einzelnen Berechnungen Schritt für\n",
    "Schritt vorgenommen. In einer zweiten Phase können diese dann in einer\n",
    "Python Klasse zusammengefügt werden."
   ]
  },
  {
   "cell_type": "markdown",
   "metadata": {
    "id": "dYeORf6FIwyT"
   },
   "source": [
    "## Vorgehen Schritt für Schirtt"
   ]
  },
  {
   "cell_type": "markdown",
   "metadata": {},
   "source": [
    "### Rechnerische Lösung"
   ]
  },
  {
   "cell_type": "markdown",
   "metadata": {
    "id": "ouH96pTUIwyU"
   },
   "source": [
    "Die Python Librarie `sympy` ermöglicht die automatisierte Lösung von\n",
    "Gleichungen. Dazu muss mit der Funktion `sympy.symbols()` definiert\n",
    "werden, nach welcher Variabel die Gleichung aufgelöst werden soll (`x =\n",
    "sp.symbols('x')` im Beispiel). Anschliessend muss die Gleichung erfasst\n",
    "werden. Dies geschieht mit `sympy.Eq(x,y)`, wobei `x` und `y` die Terme\n",
    "links und rechts des Gleichheitsszeichens darstellen.  \n",
    "Mit `sympy.solve(gleichung, x)` wird die Gleichung nach `x` aufgelöst (Achtung: damit wird eine Liste von Resultaten erzeugt!)."
   ]
  },
  {
   "cell_type": "code",
   "execution_count": null,
   "metadata": {
    "colab": {
     "base_uri": "https://localhost:8080/"
    },
    "executionInfo": {
     "elapsed": 255,
     "status": "ok",
     "timestamp": 1707371979682,
     "user": {
      "displayName": "Jacques Mock Schindler",
      "userId": "15993227930449788589"
     },
     "user_tz": -60
    },
    "id": "CRJBswM3IwyV",
    "outputId": "5cb32c1b-dd88-45da-9b44-85d2f7c06add"
   },
   "outputs": [],
   "source": [
    "x = sp.symbols('x')                    # Definition der Variable \n",
    "                                       # nach der die Gleichung aufgelöst wird\n",
    "gleichung = sp.Eq(0.45*x+190,          # Kostenfunktion Halbtax\n",
    "                  0.28*x+6545)         # Kostenfunktion Auto\n",
    "bep = sp.solve(gleichung, x)           # Lösung der Gleichung\n",
    "break_even_point = bep[0]              # Zuweisung der Lösung an break_even_point\n",
    "print(break_even_point)"
   ]
  },
  {
   "cell_type": "markdown",
   "metadata": {},
   "source": [
    "Bis zu einer Distanz von 37'382 km ist es günstiger mit der Eisenbahn zu reisen. Um dieses Resultat anschaulicher zu machen, wird im folgenden Abschnitt eine grafische Lösung erstellt."
   ]
  },
  {
   "cell_type": "markdown",
   "metadata": {},
   "source": [
    "### Grafische Lösung"
   ]
  },
  {
   "cell_type": "markdown",
   "metadata": {
    "id": "b0pBfzj9IwyY"
   },
   "source": [
    "Für die grafische Lösung brauchen wir Wertelisten, die wir gegeneinander plotten können. Das heisst, wir brauchen für die x-Achse eine Liste von Kilometerwerten und für die y-Achse daraus abgeleitete Kosten für das Auto, bzw. die Eisenbahn."
   ]
  },
  {
   "cell_type": "code",
   "execution_count": null,
   "metadata": {
    "executionInfo": {
     "elapsed": 289,
     "status": "ok",
     "timestamp": 1707370510335,
     "user": {
      "displayName": "Jacques Mock Schindler",
      "userId": "15993227930449788589"
     },
     "user_tz": -60
    },
    "id": "jZtkCqzRMb25"
   },
   "outputs": [],
   "source": [
    "km = [i for i in range(50_000)]          # km-Liste, wobei das Maximum grösser\n",
    "                                         # als der Break Even Point sein muss\n",
    "k_sbb = [0.45 * i + 190 for i in km]     # Kostenfunktion für das Halbtax\n",
    "k_auto = [0.28 * i + 6_545 for i in km]  # Kostenfunktion für das Auto"
   ]
  },
  {
   "cell_type": "code",
   "execution_count": null,
   "metadata": {
    "colab": {
     "base_uri": "https://localhost:8080/",
     "height": 452
    },
    "executionInfo": {
     "elapsed": 878,
     "status": "ok",
     "timestamp": 1707372231339,
     "user": {
      "displayName": "Jacques Mock Schindler",
      "userId": "15993227930449788589"
     },
     "user_tz": -60
    },
    "id": "RGXJit48NJfb",
    "outputId": "6a2c8fb1-3ce5-44ce-cc64-6b2dc86f3dcd"
   },
   "outputs": [],
   "source": [
    "plt.plot(km, k_sbb, color='blue',       # Plot der Kostenfunktion Halbtax\n",
    "         label='Halbtax')     \n",
    "plt.plot(km, k_auto, color='green',     # Plot der Kostenfunktion Auto\n",
    "         label='Auto')       \n",
    "plt.vlines(break_even_point, ymin=0,    # Darstellung der Nutzschwelle\n",
    "           ymax=23_000, colors='red',\n",
    "           linestyle='dashed',\n",
    "           label=f'Nutzschwelle ({round(break_even_point)} km)')\n",
    "plt.title(f'Halbtax im Vergleich mit Auto')\n",
    "plt.xlabel('Distanz in km')\n",
    "plt.ylabel('Kosten in CHF')\n",
    "plt.legend()\n",
    "plt.show()"
   ]
  },
  {
   "cell_type": "markdown",
   "metadata": {},
   "source": [
    "In der grafischen Darstellung der Nutzschwelle sieht man, dass bis zur Nutzschwelle das Auto (grüne Kurve) höhere Kosten als die Eisenbahn (blaue Kurve) verursacht."
   ]
  },
  {
   "cell_type": "markdown",
   "metadata": {
    "id": "LsIWHrHnUlY7"
   },
   "source": [
    "## Verallgemeinerte Berechnung der Nutzschwelle"
   ]
  },
  {
   "cell_type": "markdown",
   "metadata": {
    "id": "FGvGzQYIU7Zv"
   },
   "source": [
    "Damit die Nuztschwelle allgemein, dh. bei einer Gegenüberstellung beliebiger Varianten, berechnet werden kann, kann dafür eine Python Klasse geschrieben werden. Als Vorbereitung dafür ist ein UML-Klassendiagramm zu skizzieren.\n",
    "\n",
    "Ausgehend von der manuellen Lösung sollte die Klasse eine Methode für die Berechnung der Nutzschwelle sowie eine zur grafischen Darstellung der Nutzschwelle zur Verfügung stellen. Aus diesen beiden Methoden kann nun abgeleitet werden, welche Attribute die Klasse dazu braucht. Aus den obigen Berechnungen ergibt sich, dass das Objekt Attribute für die Fixkosten sowie die variablen Kosten braucht. Ausserdem wäre es für die grafische Darstellung hilfreich, über Attribute für den Titel sowie den Kostentreiber zu verfügen. Zusätzlich kann es hilfreich sein, wenn die Kostenfunktion eines einzelnen Objekts geplottet werden kann."
   ]
  },
  {
   "cell_type": "markdown",
   "metadata": {
    "id": "YwblZXJYIwyY"
   },
   "source": [
    "<img alt=\"\" src=\"data:image/svg+xml;base64,PD94bWwgdmVyc2lvbj0iMS4wIiBlbmNvZGluZz0iVVRGLTgiIHN0YW5kYWxvbmU9Im5vIj8+CjwhRE9DVFlQRSBzdmcgUFVCTElDICItLy9XM0MvL0RURCBTVkcgMS4wLy9FTiIgImh0dHA6Ly93d3cudzMub3JnL1RSLzIwMDEvUFItU1ZHLTIwMDEwNzE5L0RURC9zdmcxMC5kdGQiPgo8c3ZnIHdpZHRoPSI5Y20iIGhlaWdodD0iOGNtIiB2aWV3Qm94PSIxNjQgMTU4IDE2NyAxNTAiIHhtbG5zPSJodHRwOi8vd3d3LnczLm9yZy8yMDAwL3N2ZyIgeG1sbnM6eGxpbms9Imh0dHA6Ly93d3cudzMub3JnLzE5OTkveGxpbmsiPgogIDxnPgogICAgPHJlY3Qgc3R5bGU9ImZpbGw6ICNmZmZmZmYiIHg9IjE2NSIgeT0iMTU5IiB3aWR0aD0iMTY1Ljc1IiBoZWlnaHQ9IjI4Ii8+CiAgICA8cmVjdCBzdHlsZT0iZmlsbDogbm9uZTsgZmlsbC1vcGFjaXR5OjA7IHN0cm9rZS13aWR0aDogMTsgc3Ryb2tlOiAjMDAwMDAwIiB4PSIxNjUiIHk9IjE1OSIgd2lkdGg9IjE2NS43NSIgaGVpZ2h0PSIyOCIvPgogICAgPHRleHQgZm9udC1zaXplPSIxNiIgc3R5bGU9ImZpbGw6ICMwMDAwMDA7dGV4dC1hbmNob3I6bWlkZGxlO2ZvbnQtZmFtaWx5OnNhbnMtc2VyaWY7Zm9udC1zdHlsZTpub3JtYWw7Zm9udC13ZWlnaHQ6NzAwIiB4PSIyNDcuODc1IiB5PSIxNzgiPkJyZWFrRXZlbk9iamVrdDwvdGV4dD4KICAgIDxyZWN0IHN0eWxlPSJmaWxsOiAjZmZmZmZmIiB4PSIxNjUiIHk9IjE4NyIgd2lkdGg9IjE2NS43NSIgaGVpZ2h0PSI2OCIvPgogICAgPHJlY3Qgc3R5bGU9ImZpbGw6IG5vbmU7IGZpbGwtb3BhY2l0eTowOyBzdHJva2Utd2lkdGg6IDE7IHN0cm9rZTogIzAwMDAwMCIgeD0iMTY1IiB5PSIxODciIHdpZHRoPSIxNjUuNzUiIGhlaWdodD0iNjgiLz4KICAgIDx0ZXh0IGZvbnQtc2l6ZT0iMTIuOCIgc3R5bGU9ImZpbGw6ICMwMDAwMDA7dGV4dC1hbmNob3I6c3RhcnQ7Zm9udC1mYW1pbHk6bW9ub3NwYWNlO2ZvbnQtc3R5bGU6bm9ybWFsO2ZvbnQtd2VpZ2h0Om5vcm1hbCIgeD0iMTY3LjUiIHk9IjIwMSI+K3RpdGVsPC90ZXh0PgogICAgPHRleHQgZm9udC1zaXplPSIxMi44IiBzdHlsZT0iZmlsbDogIzAwMDAwMDt0ZXh0LWFuY2hvcjpzdGFydDtmb250LWZhbWlseTptb25vc3BhY2U7Zm9udC1zdHlsZTpub3JtYWw7Zm9udC13ZWlnaHQ6bm9ybWFsIiB4PSIxNjcuNSIgeT0iMjE3Ij4ra29zdGVudHJlaWJlcjwvdGV4dD4KICAgIDx0ZXh0IGZvbnQtc2l6ZT0iMTIuOCIgc3R5bGU9ImZpbGw6ICMwMDAwMDA7dGV4dC1hbmNob3I6c3RhcnQ7Zm9udC1mYW1pbHk6bW9ub3NwYWNlO2ZvbnQtc3R5bGU6bm9ybWFsO2ZvbnQtd2VpZ2h0Om5vcm1hbCIgeD0iMTY3LjUiIHk9IjIzMyI+K3ZhcmlhYmxlX2tvc3RlbjwvdGV4dD4KICAgIDx0ZXh0IGZvbnQtc2l6ZT0iMTIuOCIgc3R5bGU9ImZpbGw6ICMwMDAwMDA7dGV4dC1hbmNob3I6c3RhcnQ7Zm9udC1mYW1pbHk6bW9ub3NwYWNlO2ZvbnQtc3R5bGU6bm9ybWFsO2ZvbnQtd2VpZ2h0Om5vcm1hbCIgeD0iMTY3LjUiIHk9IjI0OSI+K2ZpeGVfa29zdGVuPC90ZXh0PgogICAgPHJlY3Qgc3R5bGU9ImZpbGw6ICNmZmZmZmYiIHg9IjE2NSIgeT0iMjU1IiB3aWR0aD0iMTY1Ljc1IiBoZWlnaHQ9IjUyIi8+CiAgICA8cmVjdCBzdHlsZT0iZmlsbDogbm9uZTsgZmlsbC1vcGFjaXR5OjA7IHN0cm9rZS13aWR0aDogMTsgc3Ryb2tlOiAjMDAwMDAwIiB4PSIxNjUiIHk9IjI1NSIgd2lkdGg9IjE2NS43NSIgaGVpZ2h0PSI1MiIvPgogICAgPHRleHQgZm9udC1zaXplPSIxMi44IiBzdHlsZT0iZmlsbDogIzAwMDAwMDt0ZXh0LWFuY2hvcjpzdGFydDtmb250LWZhbWlseTptb25vc3BhY2U7Zm9udC1zdHlsZTpub3JtYWw7Zm9udC13ZWlnaHQ6bm9ybWFsIiB4PSIxNjcuNSIgeT0iMjY5Ij4rYnJlYWtfZXZlbl9wb2ludCgpPC90ZXh0PgogICAgPHRleHQgZm9udC1zaXplPSIxMi44IiBzdHlsZT0iZmlsbDogIzAwMDAwMDt0ZXh0LWFuY2hvcjpzdGFydDtmb250LWZhbWlseTptb25vc3BhY2U7Zm9udC1zdHlsZTpub3JtYWw7Zm9udC13ZWlnaHQ6bm9ybWFsIiB4PSIxNjcuNSIgeT0iMjg1Ij4rcGxvdF92ZXJnbGVpY2goKTwvdGV4dD4KICAgIDx0ZXh0IGZvbnQtc2l6ZT0iMTIuOCIgc3R5bGU9ImZpbGw6ICMwMDAwMDA7dGV4dC1hbmNob3I6c3RhcnQ7Zm9udC1mYW1pbHk6bW9ub3NwYWNlO2ZvbnQtc3R5bGU6bm9ybWFsO2ZvbnQtd2VpZ2h0Om5vcm1hbCIgeD0iMTY3LjUiIHk9IjMwMSI+K3Bsb3Rfa29zdGVuKCk8L3RleHQ+CiAgPC9nPgo8L3N2Zz4K\" />"
   ]
  },
  {
   "cell_type": "markdown",
   "metadata": {
    "id": "W984oPK8Z4ok"
   },
   "source": [
    "Die hier dargestellte Klasse kann nun implementiert werden. Dabei besteht ein erheblicher Spielraum, wie die drei Methoden implementiert werden.\n",
    "\n",
    "Weil oben aber bereits eine \"manuelle\" Lösung erarbeitet worden ist, ist die effizienteste Vorgehensweise wohl die Übernahme des bereits geprüften Codes in die zu implementierende Klasse."
   ]
  },
  {
   "cell_type": "code",
   "execution_count": null,
   "metadata": {
    "executionInfo": {
     "elapsed": 256,
     "status": "ok",
     "timestamp": 1707406762726,
     "user": {
      "displayName": "Jacques Mock Schindler",
      "userId": "15993227930449788589"
     },
     "user_tz": -60
    },
    "id": "FD4auDmHjXlS"
   },
   "outputs": [],
   "source": [
    "class BEO1:\n",
    "    def __init__(self,\n",
    "                 titel : str,\n",
    "                 kostentreiber : str,\n",
    "                 v_kosten : float,\n",
    "                 f_kosten : float = 0):\n",
    "        \"\"\"\n",
    "        Initialisiert eine neue Instanz der BEO1-Klasse.\n",
    "\n",
    "        :param titel: Der Titel des Objekts zur Identifizierung in \n",
    "                      den Plots.\n",
    "        :param kostentreiber: Der Name der Kostentreiber-Variable,\n",
    "                              z.B. 'km' für Kilometer.\n",
    "        :param v_kosten: Variable Kosten pro Einheit des Kostentreibers.\n",
    "        :param f_kosten: Fixe Kosten, standardmäßig auf 0 gesetzt.\n",
    "        \"\"\"\n",
    "\n",
    "        self.titel = titel\n",
    "        self.kostentreiber = kostentreiber\n",
    "        self.v_kosten = v_kosten\n",
    "        self.f_kosten = f_kosten\n",
    "\n",
    "    def break_even_point(self, other):\n",
    "        \"\"\"\n",
    "        Berechnet den Break-Even-Point zwischen zwei BEO1-Objekten.\n",
    "\n",
    "        :param other: Ein anderes BEO1-Objekt, mit dem verglichen wird.\n",
    "        :return: Der Break-Even-Point als Lösung der Gleichung.\n",
    "        \"\"\"\n",
    "\n",
    "        x = sp.symbols('x')\n",
    "        gleichung = sp.Eq(self.v_kosten * x + self.f_kosten,\n",
    "                          other.v_kosten * x + other.f_kosten)\n",
    "\n",
    "        bep = sp.solve(gleichung, x)\n",
    "\n",
    "        return bep[0]\n",
    "\n",
    "    def plot_vergleich(self, other):\n",
    "        \"\"\"\n",
    "        Erstellt einen Vergleichsplot zweier BEO1-Objekte\n",
    "        und zeigt den Break-Even-Point.\n",
    "\n",
    "        :param other: Ein anderes BEO1-Objekt, mit dem verglichen wird.\n",
    "        \"\"\"\n",
    "\n",
    "        bep = self.break_even_point(other)\n",
    "\n",
    "        # Bestimme die obere Grenze des Plots\n",
    "        if bep > 0:\n",
    "            maximum = max(int(2 * bep), 10)\n",
    "        else:\n",
    "            bep = 0\n",
    "            maximum = 100\n",
    "\n",
    "        # Berechne y-Werte für beide Objekte\n",
    "        x_werte = [i for i in range(maximum)]\n",
    "        y_self = [self.v_kosten * x + self.f_kosten for x in x_werte]\n",
    "        y_other = [other.v_kosten * x + other.f_kosten for x in x_werte]\n",
    "\n",
    "        # Bestimme das Maximum für die y-Achse\n",
    "        kombi = y_self + y_other\n",
    "        max_value = max(kombi)\n",
    "\n",
    "        # Erstelle den Plot\n",
    "        plt.plot(x_werte, y_self, label=self.titel)\n",
    "        plt.plot(x_werte, y_other, label=other.titel)\n",
    "\n",
    "        # Zeichne die Nutzschwelle\n",
    "        plt.vlines(bep, ymin=0,\n",
    "                ymax=max_value,\n",
    "                colors='red', linestyle='dashed',\n",
    "                label=f'Nutzschwelle ({round(bep)} km)')\n",
    "\n",
    "        # Beschriftung und Darstellung des Plots\n",
    "        plt.title(f'{self.titel} im Vergleich mit {other.titel}')\n",
    "        plt.xlabel(self.kostentreiber)\n",
    "        plt.ylabel('CHF')\n",
    "        plt.legend()\n",
    "        plt.show()\n",
    "\n",
    "\n",
    "\n",
    "    def plot_kosten(self):\n",
    "        \"\"\"\n",
    "        Erstellt einen Plot des Kostenverlaufs für das BEO1-Objekt.\n",
    "        \"\"\"\n",
    "\n",
    "        maximum = 200\n",
    "\n",
    "        x_werte = [i for i in range(maximum)]\n",
    "        y_self = [self.v_kosten * x + self.f_kosten for x in x_werte]\n",
    "\n",
    "        plt.plot(x_werte, y_self, label=self.titel)\n",
    "        plt.title(f'Kostenverlauf {self.titel}')\n",
    "        plt.xlabel(self.kostentreiber)\n",
    "        plt.ylabel('CHF')\n",
    "        plt.legend()\n",
    "        plt.show()"
   ]
  },
  {
   "cell_type": "code",
   "execution_count": null,
   "metadata": {
    "colab": {
     "base_uri": "https://localhost:8080/",
     "height": 489
    },
    "executionInfo": {
     "elapsed": 851,
     "status": "ok",
     "timestamp": 1707407951790,
     "user": {
      "displayName": "Jacques Mock Schindler",
      "userId": "15993227930449788589"
     },
     "user_tz": -60
    },
    "id": "XXmj2PUrk0mA",
    "outputId": "00407675-f14c-439b-8367-213f0fe6918f"
   },
   "outputs": [],
   "source": [
    "halbtax = BEO1('Halbtax', 'km', 0.45, 190)\n",
    "auto = BEO1('Auto', 'km', 0.24, 6_545)\n",
    "ga = BEO1('Generalabonnement', 'km', 0.0, 6_520)\n",
    "\n",
    "break_even = auto.break_even_point(halbtax)\n",
    "print(f'Bis {round(break_even)}{halbtax.kostentreiber} ist das Reisen', end='')\n",
    "print(f' mit einem {halbtax.titel} günstiger.')\n",
    "auto.plot_vergleich(halbtax)"
   ]
  }
 ],
 "metadata": {
  "colab": {
   "collapsed_sections": [
    "qStEGyjtIwyH",
    "sVLSZXX_IwyL"
   ],
   "provenance": [
    {
     "file_id": "https://github.com/ProgrammierenNachOFI/Investitionsrechnung/blob/breakeven/docs/break_even/break_even_muloe.ipynb",
     "timestamp": 1707369428597
    }
   ]
  },
  "kernelspec": {
   "display_name": "Python 3 (ipykernel)",
   "language": "python",
   "name": "python3"
  },
  "language_info": {
   "codemirror_mode": {
    "name": "ipython",
    "version": 3
   },
   "file_extension": ".py",
   "mimetype": "text/x-python",
   "name": "python",
   "nbconvert_exporter": "python",
   "pygments_lexer": "ipython3",
   "version": "3.12.2"
  }
 },
 "nbformat": 4,
 "nbformat_minor": 4
}
