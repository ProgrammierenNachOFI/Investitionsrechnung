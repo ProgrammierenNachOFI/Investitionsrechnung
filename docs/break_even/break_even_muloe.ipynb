{
 "cells": [
  {
   "cell_type": "markdown",
   "metadata": {},
   "source": [
    "<a target=\"_blank\" href=\"https://colab.research.google.com/github/ProgrammierenNachOFI/Investitionsrechnung/blob/breakeven/docs/break_even/break_even_muloe.ipynb\">\n",
    "  <img src=\"https://colab.research.google.com/assets/colab-badge.svg\" alt=\"Open In Colab\"/>\n",
    "</a>"
   ]
  },
  {
   "cell_type": "markdown",
   "metadata": {},
   "source": [
    "# Break Even (Nutzschwelle)"
   ]
  },
  {
   "cell_type": "markdown",
   "metadata": {},
   "source": [
    "Die Berechnung der Nutzschwelle (Break Even Point) soll am Beispiel von\n",
    "Mobilitätskosten dargestellt werden. Es werden dazu auf Preise im\n",
    "Februar 2024 abgestellt.  \n",
    "Verglichen werden die Kosten eines Kleinwagens mit jenen des\n",
    "öffentlichen Verkehrs mit einem Halbtax- bzw. Generalabbonement."
   ]
  },
  {
   "cell_type": "markdown",
   "metadata": {},
   "source": [
    "## Ausgangslage"
   ]
  },
  {
   "cell_type": "markdown",
   "metadata": {},
   "source": [
    "### Kosten Kleinwagen"
   ]
  },
  {
   "cell_type": "markdown",
   "metadata": {},
   "source": [
    "Basierend auf den \n",
    "[Angaben des TCS vom Februar 2024](https://www.tcs.ch/de/testberichte-ratgeber/ratgeber/kontrollen-unterhalt/kilometerkosten.php)\n",
    "fallen für einen Kleinwagen die folgenden Kosten an:"
   ]
  },
  {
   "cell_type": "markdown",
   "metadata": {},
   "source": [
    "| Musterauto | Kostensituation |\n",
    "| :--- | :---: |\n",
    "| Jährliche Laufleistung | 15'000 km |\n",
    "| Nutzungsdauer | 10 Jahre |\n",
    "| Amortisation | CHF 2'897 |\n",
    "| Parkkosten | CHF 1'716 |\n",
    "| Versicherungen | CHF 966|\n",
    "| Diverses | CHF 966 |\n",
    "| Total Fixkosten | CHF 6'545 |\n",
    "| Nutzungsbedingte Werverminderung | CHF 1'180 |\n",
    "| Treibstoffkosten | CHF 1'502|\n",
    "| Reifenkosten | CHF 429 |\n",
    "| Reparaturkosten | CHF 1'073 |\n",
    "| Total variable Kosten | CHF 4'184 |\n",
    "| Kosten pro km | CHF 0.28 |"
   ]
  },
  {
   "cell_type": "markdown",
   "metadata": {},
   "source": [
    "### Kosten Halbtax"
   ]
  },
  {
   "cell_type": "markdown",
   "metadata": {},
   "source": [
    "Ein Halbtax der SBB \n",
    "[kostet für einen Neukunden im Februar 2024](https://www.sbb.ch/de/billette-angebote/abos/halbtax.html)\n",
    "CHF 190.\n",
    "\n",
    "Unklar sind die Kilometerpreise der SBB. Eine Überschlagsrechnung,\n",
    "basierend auf den Billettpreisen und den Strecken gemäss Karte, führt zu\n",
    "einem Kilometerpreis von CHF 0.45 für ein Billett erster Klasse."
   ]
  },
  {
   "cell_type": "markdown",
   "metadata": {},
   "source": [
    "### Kosten Generalabonnement"
   ]
  },
  {
   "cell_type": "markdown",
   "metadata": {},
   "source": [
    "Ein Generalabonnement erster Klasse \n",
    "[kostet im Februar 2024](https://www.sbb.ch/de/billette-angebote/abos/ga/ga-preise.html)\n",
    "CHF 6'520."
   ]
  },
  {
   "cell_type": "markdown",
   "metadata": {},
   "source": [
    "## Erforderliche Python Libraries"
   ]
  },
  {
   "cell_type": "markdown",
   "metadata": {},
   "source": [
    "Um die Resultate grafisch darstellen zu können, wird auf die Python\n",
    "Library `matplotlib` abgestellt. Für das automatisierte Lösen von Gleichungen wird die Python Library `sympy` verwendet."
   ]
  },
  {
   "cell_type": "code",
   "execution_count": 1,
   "metadata": {},
   "outputs": [],
   "source": [
    "import matplotlib.pyplot as plt\n",
    "import sympy as sp\n"
   ]
  },
  {
   "cell_type": "markdown",
   "metadata": {},
   "source": [
    "## Python als \"Taschenrechner\""
   ]
  },
  {
   "cell_type": "markdown",
   "metadata": {},
   "source": [
    "In einer ersten Phase werden die einzelnen Berechnungen Schritt für\n",
    "Schritt vorgenommen. In einer zweiten Phase können diese dann in einer\n",
    "Python Klasse zusammengefügt werden."
   ]
  },
  {
   "cell_type": "markdown",
   "metadata": {},
   "source": []
  },
  {
   "cell_type": "markdown",
   "metadata": {},
   "source": [
    "Es wäre hilfreich, wenn die entsprechenden Daten in einer Klasse\n",
    "abgelegt werden könnten."
   ]
  },
  {
   "cell_type": "markdown",
   "metadata": {},
   "source": [
    "![Klassendiagramm](images/Klassendiagramm.svg)"
   ]
  },
  {
   "cell_type": "code",
   "execution_count": null,
   "metadata": {},
   "outputs": [],
   "source": [
    "class BreakEvenObjekt:\n",
    "    def __init__(self, \n",
    "                 label, \n",
    "                 variable_kosten, \n",
    "                 fixe_kosten = {'k1': 0}):\n",
    "        self.fixe_kosten = fixe_kosten\n",
    "        self.variable_kosten = variable_kosten\n",
    "        self.total_fixe_kosten = sum(fixe_kosten.values())\n",
    "        self.total_variable_kosten = sum(variable_kosten.values())\n",
    "        # Gleichung: f(x) = mx + b\n",
    "        self.m = self.total_variable_kosten\n",
    "        self.b = self.total_fixe_kosten\n",
    "        self.label = label\n",
    "        \n",
    "    def break_even_point(self, other):\n",
    "        x = sp.symbols('x')\n",
    "        print(f'm: {self.m}, b: {self.b}')\n",
    "        gleichung = sp.Eq(self.m * x + self.b, other.m * x + other.b)\n",
    "        \n",
    "        return sp.solve(gleichung, x)\n",
    "\n",
    "    def plot(self, other):\n",
    "        x = [i for i in range(0, 10_000)]\n",
    "        y = [self.m * i + self.b for i in x]\n",
    "        a = [other.m * i + other.b for i in x]\n",
    "        plt.plot(x, y, label=self.label)\n",
    "        plt.plot(x, a, label=other.label)\n",
    "        plt.title(f'{self.label} gegen {other.label}')\n",
    "        plt.legend()\n",
    "        plt.show()"
   ]
  },
  {
   "cell_type": "code",
   "execution_count": null,
   "metadata": {},
   "outputs": [],
   "source": [
    "test_variable_kosten = {'k1': 0.45}\n",
    "test_fixe_kosten = {'k1': 190}\n",
    "halbtax = BreakEvenObjekt('Halbtax', test_variable_kosten, test_fixe_kosten)\n",
    "test2_variable_kosten = {'k1': 0.7}\n",
    "test2_fixe_kosten = {'k1': 0}\n",
    "auto = BreakEvenObjekt('Auto', test2_variable_kosten, test2_fixe_kosten)\n",
    "\n",
    "print(halbtax.break_even_point(auto))\n",
    "\n",
    "halbtax.plot(auto)"
   ]
  },
  {
   "cell_type": "markdown",
   "metadata": {},
   "source": [
    "## Halbtax\n",
    "\n",
    "Strecke St. Gallen - Genf\n",
    "\n",
    "| Stichwort | Preis |\n",
    "| :--- | ---: |\n",
    "| Kaufpreis | 190 |\n",
    "| Billet | 113 |\n",
    "| Distanz | 360 |\n",
    "\n",
    "Strecke Basel - Chiasso\n",
    "\n",
    "| Stichwort | Preis |\n",
    "| :--- | ---: |\n",
    "| Kaufpreis | 190 |\n",
    "| Billet | 96 |\n",
    "| Distanz | 290 |\n",
    "\n",
    "| Stichwort | Preis |\n",
    "| :--- | ---: |\n",
    "| Kaufpreis | 190 |\n",
    "| Tarifkilometer | 0.35 |\n",
    "\n",
    "| Stichwort | Preis |\n",
    "| :--- | ---: |\n",
    "| Kaufpreis | 0 |\n",
    "| Tarifkilometer | 0.70 |\n",
    "| Distanz | 360 |"
   ]
  },
  {
   "cell_type": "code",
   "execution_count": null,
   "metadata": {},
   "outputs": [],
   "source": [
    "variabel_halbtax = {\"tarifkilometer\" : 0.35}\n",
    "fix_halbtax = {\"abonnement\" : 190}\n",
    "\n",
    "x = [i for i in range(0, 10_000)]\n",
    "y = [0.45 * i + 190 for i in x]\n",
    "a = [0.71 * i for i in x]\n",
    "plt.plot(x, y, label=\"Halbtax\")\n",
    "plt.plot(x, a, label=\"Auto\")\n",
    "plt.legend()\n",
    "plt.show()"
   ]
  },
  {
   "cell_type": "code",
   "execution_count": null,
   "metadata": {},
   "outputs": [],
   "source": [
    "x = sp.symbols('x')\n",
    "gleichung = sp.Eq(0.45 * x + 190, 0.71 * x)\n",
    "loesung = sp.solve(gleichung, x)\n",
    "print(loesung)"
   ]
  },
  {
   "cell_type": "code",
   "execution_count": null,
   "metadata": {},
   "outputs": [],
   "source": [
    "test = 0.45\n",
    "gleichung2 = sp.Eq(test * x + 190, 0.71 * x)"
   ]
  }
 ],
 "metadata": {
  "kernelspec": {
   "display_name": "Python 3 (ipykernel)",
   "language": "python",
   "name": "python3"
  },
  "language_info": {
   "codemirror_mode": {
    "name": "ipython",
    "version": 3
   },
   "file_extension": ".py",
   "mimetype": "text/x-python",
   "name": "python",
   "nbconvert_exporter": "python",
   "pygments_lexer": "ipython3",
   "version": "3.12.1"
  }
 },
 "nbformat": 4,
 "nbformat_minor": 2
}
