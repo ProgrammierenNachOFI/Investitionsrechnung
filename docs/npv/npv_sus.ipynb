{
 "cells": [
  {
   "cell_type": "markdown",
   "metadata": {},
   "source": [
    "# Berechnung des Net Present Value mit Python"
   ]
  },
  {
   "cell_type": "markdown",
   "metadata": {},
   "source": [
    "Im folgenden Notebook geht es darum, den Nettobarwert (Net Present\n",
    "Value, NPV) einer Investition mit den Grundfunktionen von Python\n",
    "zu berechnen. Allenfalls werden dafür eigene Funktionen\n",
    "geschrieben."
   ]
  },
  {
   "cell_type": "markdown",
   "metadata": {},
   "source": [
    "Um die Berechnung des NPV zu programmieren, braucht es zuerst eine\n",
    "Zusammenstellung der für die Berechnung erforderlichen Informationen\n",
    "(Daten). Hilfreich ist es ausserdem, die Berechnung in Zwischenschritte\n",
    "aufzuteilen und diese Zwischenschritte aufzulisten."
   ]
  },
  {
   "cell_type": "markdown",
   "metadata": {},
   "source": [
    "## Zur Berechnung des NPV erforderliche Daten"
   ]
  },
  {
   "cell_type": "markdown",
   "metadata": {},
   "source": [
    "Listen Sie in der folgenden Zelle die für die Berechnung des NPV nötigen\n",
    "Informationen auf."
   ]
  },
  {
   "cell_type": "markdown",
   "metadata": {},
   "source": [
    "- füllen Sie hier auf\n",
    "- ..."
   ]
  },
  {
   "cell_type": "markdown",
   "metadata": {},
   "source": [
    "## Zur Berechnung des NPV sinnvolle Zwischenschritte"
   ]
  },
  {
   "cell_type": "markdown",
   "metadata": {},
   "source": [
    "Zählen Sie in der folgenden Zelle sinnvolle Zwischenschritte für die\n",
    "Berechnung des NPV auf."
   ]
  },
  {
   "cell_type": "markdown",
   "metadata": {},
   "source": [
    "- füllen Sie hier auf\n",
    "- ..."
   ]
  },
  {
   "cell_type": "markdown",
   "metadata": {},
   "source": [
    "## Modellprojekt"
   ]
  },
  {
   "cell_type": "markdown",
   "metadata": {},
   "source": [
    "Das Modellprojekt ist eine Aufgabe, die aus dem Buch \n",
    "Capaul, Roman, und Steingruber, Daniel; Betriebswirtschaft verstehen:\n",
    "Das St.Galler Management-Modell. 4. Auflage. Berlin: Cornelsen, 2020,\n",
    "Seite 425 übernommen wurde."
   ]
  },
  {
   "cell_type": "markdown",
   "metadata": {},
   "source": [
    "\n",
    "| Stichwort | Variante A | Variante B |\n",
    "| :--- | ---: | ---: |\n",
    "| Anschaffungspreis | 8'000 | 10'000 |\n",
    "| Nutzungsdauer | 4 Jahre | 4 Jahre |\n",
    "| CF1 | 3'500 | 4'000 |\n",
    "| CF2 | 3'800 | 4'100 |\n",
    "| CF3 | 3'900 | 4'100 |\n",
    "| CF4 | 4'000 | 4'200 |\n",
    "| Kalkulatorischer Zinssatz | 12% | 12% |"
   ]
  },
  {
   "cell_type": "markdown",
   "metadata": {},
   "source": [
    "Um die Berechnung zu programmieren, wird vorerst nur mit der Variante A gerechnet."
   ]
  },
  {
   "cell_type": "markdown",
   "metadata": {},
   "source": [
    "Weisen Sie in der folgenden Zelle die Angaben der Ausgangslage Variabeln\n",
    "zu. Verwenden Sie dazu sinnvolle Namen."
   ]
  },
  {
   "cell_type": "code",
   "execution_count": null,
   "metadata": {},
   "outputs": [],
   "source": [
    "# TODO: Zuweisung der Informationen zu Variabeln"
   ]
  },
  {
   "cell_type": "markdown",
   "metadata": {},
   "source": [
    "Berechnen Sie aus diesen Angaben als erstes eine Liste der diskontierten\n",
    "Cash Flows. Arbeiten Sie dazu mit einer `for`-Schleife."
   ]
  },
  {
   "cell_type": "code",
   "execution_count": null,
   "metadata": {},
   "outputs": [],
   "source": [
    "# TODO: Liste mit diskontierten Cash Flows erstellen"
   ]
  },
  {
   "cell_type": "markdown",
   "metadata": {},
   "source": [
    "Als Alternative kann die Liste der diskontierten Cash Flows auch mit Hilfe\n",
    "einer\n",
    "[list comprehension](https://realpython.com/list-comprehension-python/)\n",
    "programmiert werden.\n",
    "\n",
    "Setzen Sie diese Alternative in der folgenden Zelle um."
   ]
  },
  {
   "cell_type": "code",
   "execution_count": null,
   "metadata": {},
   "outputs": [],
   "source": [
    "# TODO: Liste mit list comprehension erstellen"
   ]
  },
  {
   "cell_type": "markdown",
   "metadata": {},
   "source": [
    "Um in der list comprehension eine laufende Variabel verwenden zu können,\n",
    "braucht es die Funktion\n",
    "[`enumerate()`](https://realpython.com/python-enumerate/). Diese gibt\n",
    "sowohl den Index wie auch das entsprechende Element der Liste der Reihe\n",
    "nach zurück.\n",
    "Die entsprechenden Werte werden in `for i, cf in enumerate(cash_flows)`\n",
    "den Variabeln `i` (Index) und `cf` (Element) zugewiesen."
   ]
  },
  {
   "cell_type": "markdown",
   "metadata": {},
   "source": [
    "Mit der Liste der diskontierten Cash Flows kann der NPV berechnet\n",
    "werden, indem die Liste aufaddiert wird und der daraus resultierende\n",
    "Barwert (Present Value, PV) der Anfangsinvestition gegenübergestellt wird."
   ]
  },
  {
   "cell_type": "markdown",
   "metadata": {},
   "source": [
    "Berechnen Sie in der folgenden Zelle den Nettobarwert und weisen diesen\n",
    "der Variabel `npv` zu."
   ]
  },
  {
   "cell_type": "code",
   "execution_count": null,
   "metadata": {},
   "outputs": [],
   "source": [
    "# TODO: npv den Nettobarwert zuweisen"
   ]
  },
  {
   "cell_type": "markdown",
   "metadata": {},
   "source": [
    "## Die Berechnung des NPV in einer Funktion"
   ]
  },
  {
   "cell_type": "markdown",
   "metadata": {},
   "source": [
    "Um diese Vorgehensweise einem Nutzer zur wiederholten Verwendung zur\n",
    "Verfügung zu stellen, kann sie als Funktion zur Verfügung gestellt werden."
   ]
  },
  {
   "cell_type": "markdown",
   "metadata": {},
   "source": [
    "Programmieren Sie in der nächsten Zelle eine Funktion `get_npv()` die\n",
    "alle nötigen Informationen als Parameter entgegennimmt und den NPV zurückgibt."
   ]
  },
  {
   "cell_type": "code",
   "execution_count": null,
   "metadata": {},
   "outputs": [],
   "source": [
    "def get_npv(investment : int, \n",
    "            cash_flows : list[int], \n",
    "            interest_rate : float) -> float:\n",
    "    \n",
    "    # TODO: Funktion implementieren\n",
    "    pass"
   ]
  },
  {
   "cell_type": "code",
   "execution_count": null,
   "metadata": {},
   "outputs": [],
   "source": [
    "# TODO: wenden Sie die Funktion auf das Zahlenbeispiel an"
   ]
  }
 ],
 "metadata": {
  "kernelspec": {
   "display_name": ".venv",
   "language": "python",
   "name": "python3"
  },
  "language_info": {
   "codemirror_mode": {
    "name": "ipython",
    "version": 3
   },
   "file_extension": ".py",
   "mimetype": "text/x-python",
   "name": "python",
   "nbconvert_exporter": "python",
   "pygments_lexer": "ipython3",
   "version": "3.11.6"
  }
 },
 "nbformat": 4,
 "nbformat_minor": 2
}
